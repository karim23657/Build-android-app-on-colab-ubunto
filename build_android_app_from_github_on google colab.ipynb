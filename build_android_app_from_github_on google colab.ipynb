{
  "cells": [
    {
      "cell_type": "markdown",
      "metadata": {
        "id": "DmgJfPdJfViU"
      },
      "source": [
        "# **WhisperInput** build help of buildozer\n"
      ]
    },
    {
      "cell_type": "markdown",
      "metadata": {
        "id": "-qvk2kvAyQfK"
      },
      "source": [
        "# Install dependencies"
      ]
    },
    {
      "cell_type": "code",
      "execution_count": null,
      "metadata": {
        "id": "q8ZX2g61fWAy"
      },
      "outputs": [],
      "source": [
        "!pip install buildozer"
      ]
    },
    {
      "cell_type": "code",
      "execution_count": null,
      "metadata": {
        "id": "3-B_LDFxgOGl"
      },
      "outputs": [],
      "source": [
        "!pip install cython==0.29.19\n",
        "!sudo apt-get install -y \\\n",
        "    python3-pip \\\n",
        "    build-essential \\\n",
        "    git \\\n",
        "    python3 \\\n",
        "    python3-dev \\\n",
        "    ffmpeg \\\n",
        "    libsdl2-dev \\\n",
        "    libsdl2-image-dev \\\n",
        "    libsdl2-mixer-dev \\\n",
        "    libsdl2-ttf-dev \\\n",
        "    libportmidi-dev \\\n",
        "    libswscale-dev \\\n",
        "    libavformat-dev \\\n",
        "    libavcodec-dev \\\n",
        "    zlib1g-dev\n",
        "!sudo apt-get install -y \\\n",
        "    libgstreamer1.0 \\\n",
        "    gstreamer1.0-plugins-base \\\n",
        "    gstreamer1.0-plugins-good\n",
        "!sudo apt-get install build-essential libsqlite3-dev sqlite3 bzip2 libbz2-dev zlib1g-dev libssl-dev openssl libgdbm-dev libgdbm-compat-dev liblzma-dev libreadline-dev libncursesw5-dev libffi-dev uuid-dev libffi6\n",
        "!sudo apt-get install libffi-dev\n",
        "!sudo apt-get install libffi-dev\n",
        "!sudo apt-get install automake\n",
        "!sudo apt-get install autoconf\n",
        "!sudo apt-get install libltdl-dev\n",
        "!sudo apt-get install libtool"
      ]
    },
    {
      "cell_type": "code",
      "execution_count": null,
      "metadata": {
        "colab": {
          "base_uri": "https://localhost:8080/"
        },
        "id": "-4TpY4v8hxo5",
        "outputId": "0caf3a0a-01fb-4858-b831-74334e56862a"
      },
      "outputs": [
        {
          "name": "stdout",
          "output_type": "stream",
          "text": [
            "openjdk version \"11.0.19\" 2023-04-18\n",
            "OpenJDK Runtime Environment (build 11.0.19+7-post-Ubuntu-0ubuntu122.04.1)\n",
            "OpenJDK 64-Bit Server VM (build 11.0.19+7-post-Ubuntu-0ubuntu122.04.1, mixed mode, sharing)\n"
          ]
        }
      ],
      "source": [
        "# !apt-get install openjdk-8-jdk\n",
        "!java -version"
      ]
    },
    {
      "cell_type": "code",
      "execution_count": null,
      "metadata": {
        "id": "ErEgfEfMiL_u"
      },
      "outputs": [],
      "source": [
        "!wget https://dl.google.com/android/repository/sdk-tools-linux-4333796.zip\n",
        "!unzip sdk-tools-linux-4333796.zip -d AndroidSDK\n"
      ]
    },
    {
      "cell_type": "code",
      "execution_count": null,
      "metadata": {
        "id": "Z2tlDDs7kCsr"
      },
      "outputs": [],
      "source": [
        "!wget https://dl.google.com/android/repository/commandlinetools-linux-6200805_latest.zip\n",
        "!mkdir -p /content/Android/Sdk\n",
        "!unzip -qq commandlinetools-linux-6200805_latest.zip -d /content/Android/Sdk"
      ]
    },
    {
      "cell_type": "code",
      "execution_count": null,
      "metadata": {
        "id": "B4ZCoCnckVph"
      },
      "outputs": [],
      "source": [
        "\n",
        "!wget https://dl.google.com/android/repository/commandlinetools-linux-7583922_latest.zip\n",
        "!unzip -qq commandlinetools-linux-7583922_latest.zip -d cmdline-tools\n",
        "!sudo mv cmdline-tools /usr/lib/android-sdk/"
      ]
    },
    {
      "cell_type": "code",
      "execution_count": null,
      "metadata": {
        "id": "MQgTD8zOigqO"
      },
      "outputs": [],
      "source": [
        "!export PATH=$PATH:/content/AndroidSDK/tools:/content/AndroidSDK/tools/bin:/content/AndroidSDK/platform-tools\n"
      ]
    },
    {
      "cell_type": "code",
      "execution_count": null,
      "metadata": {
        "id": "Jp2syI4fi2bF"
      },
      "outputs": [],
      "source": [
        "!/usr/lib/android-sdk/cmdline-tools/cmdline-tools/bin/sdkmanager"
      ]
    },
    {
      "cell_type": "code",
      "execution_count": null,
      "metadata": {
        "id": "Is4_2UvbjOCI"
      },
      "outputs": [],
      "source": [
        "import os\n",
        "os.environ[\"PATH\"]=os.environ[\"PATH\"]+\":/content/AndroidSDK/tools:/content/AndroidSDK/tools/bin:/content/AndroidSDK/platform-tools\""
      ]
    },
    {
      "cell_type": "code",
      "execution_count": null,
      "metadata": {
        "id": "J6ZATscvjtMz"
      },
      "outputs": [],
      "source": [
        "!sudo apt install android-sdk -qq\n"
      ]
    },
    {
      "cell_type": "code",
      "execution_count": null,
      "metadata": {
        "id": "tmmBkmyWjHSz"
      },
      "outputs": [],
      "source": [
        "import os\n",
        "os.environ[\"ANDROID_HOME\"] = \"/usr/lib/android-sdk\"\n",
        "os.environ[\"ANDROID_SDK_ROOT\"] = \"/usr/lib/android-sdk\"\n",
        "os.environ[\"JAVA_HOME\"]=\"/usr/lib/jvm/java-11-openjdk-amd64\""
      ]
    },
    {
      "cell_type": "markdown",
      "metadata": {
        "id": "S3QCNI-Byawj"
      },
      "source": [
        "# Build your app"
      ]
    },
    {
      "cell_type": "markdown",
      "metadata": {
        "id": "H3SY-Fi_yZVd"
      },
      "source": [
        "Accept all licences:"
      ]
    },
    {
      "cell_type": "code",
      "execution_count": null,
      "metadata": {
        "id": "OlAFSjIYirsb"
      },
      "outputs": [],
      "source": [
        "!yes | /usr/lib/android-sdk/cmdline-tools/cmdline-tools/bin/sdkmanager --licenses\n"
      ]
    },
    {
      "cell_type": "code",
      "execution_count": null,
      "metadata": {
        "colab": {
          "base_uri": "https://localhost:8080/"
        },
        "id": "dcKP7Z7i5WM9",
        "outputId": "4fba8493-2001-46b1-d9f6-2e2fc8aafc77"
      },
      "outputs": [
        {
          "name": "stdout",
          "output_type": "stream",
          "text": [
            "/content\n"
          ]
        }
      ],
      "source": [
        "%cd /content"
      ]
    },
    {
      "cell_type": "markdown",
      "metadata": {
        "id": "DOWrC88Iyqyd"
      },
      "source": [
        "Download or manually upload source of your app:"
      ]
    },
    {
      "cell_type": "code",
      "execution_count": null,
      "metadata": {
        "id": "MKUcE5rw5UE5"
      },
      "outputs": [],
      "source": [
        "!git clone -b mine/main https://github.com/gkfabs/WhisperInput.git\n"
      ]
    },
    {
      "cell_type": "code",
      "execution_count": null,
      "metadata": {
        "colab": {
          "base_uri": "https://localhost:8080/"
        },
        "id": "GJh7sJo-hETF",
        "outputId": "f90f7167-f463-4721-d060-00e4c288342f"
      },
      "outputs": [
        {
          "name": "stdout",
          "output_type": "stream",
          "text": [
            "/content/WhisperInput\n"
          ]
        }
      ],
      "source": [
        "%cd WhisperInput"
      ]
    },
    {
      "cell_type": "markdown",
      "metadata": {
        "id": "5u-72WZiy3Bm"
      },
      "source": [
        "Follow the build instruction of your app:"
      ]
    },
    {
      "cell_type": "code",
      "execution_count": null,
      "metadata": {
        "id": "bpT2clXghw1y"
      },
      "outputs": [],
      "source": [
        "!keytool -genkey -alias myalias -keyalg RSA -keystore keystore.jks -keysize 2048\n"
      ]
    },
    {
      "cell_type": "code",
      "execution_count": null,
      "metadata": {
        "id": "6lEaZrLLlk3a"
      },
      "outputs": [],
      "source": [
        "!echo \"signingStoreLocation=../keystore.jks\" > signing.properties\n",
        "!echo \"signingStorePassword=Your passcode\" >> signing.properties\n",
        "!echo \"signingKeyAlias=myalias\" >> signing.properties\n",
        "!echo \"signingKeyPassword=Your passcode\" >> signing.properties\n"
      ]
    },
    {
      "cell_type": "code",
      "execution_count": null,
      "metadata": {
        "id": "TIWWmih3m_Yb"
      },
      "outputs": [],
      "source": [
        "!wget https://huggingface.co/ggerganov/whisper.cpp/resolve/main/ggml-tiny.bin"
      ]
    },
    {
      "cell_type": "code",
      "execution_count": null,
      "metadata": {
        "id": "Yoqj6vGdnMFV"
      },
      "outputs": [],
      "source": [
        "!mv \"/content/WhisperInput/ggml-tiny.bin\" \"/content/WhisperInput/app/src/main/assets/models\""
      ]
    },
    {
      "cell_type": "code",
      "execution_count": null,
      "metadata": {
        "id": "ohYX_Ww9nUFX"
      },
      "outputs": [],
      "source": [
        "!rm \"/content/WhisperInput/app/src/main/assets/models/ggml-tiny.en.bin\""
      ]
    },
    {
      "cell_type": "markdown",
      "metadata": {
        "id": "e5ZYUNZzzMsw"
      },
      "source": [
        "Now you are ready to build:"
      ]
    },
    {
      "cell_type": "code",
      "execution_count": null,
      "metadata": {
        "id": "r_MiTIHQnabP"
      },
      "outputs": [],
      "source": [
        "!./gradlew assembleRelease"
      ]
    }
  ],
  "metadata": {
    "colab": {
      "collapsed_sections": [
        "nZ9SvfGauze7",
        "Ub53x8Ed7I3U"
      ],
      "provenance": []
    },
    "kernelspec": {
      "display_name": "Python 3",
      "name": "python3"
    },
    "language_info": {
      "name": "python"
    }
  },
  "nbformat": 4,
  "nbformat_minor": 0
}
